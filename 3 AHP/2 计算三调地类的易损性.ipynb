{
 "cells": [
  {
   "cell_type": "code",
   "execution_count": 10,
   "id": "8fc48e66-3632-4d0c-aef2-c9d83d038344",
   "metadata": {},
   "outputs": [],
   "source": [
    "import pandas as pd\n",
    "import numpy as np\n",
    "from datetime import datetime\n",
    " \n",
    "# 读取Excel文件\n",
    "df = pd.read_excel('H:\\三调地类分组汇总 _重新分类.xlsx')\n",
    " \n",
    "# 将DataFrame转换为数组\n",
    "datas = df.values\n",
    "\n",
    "#所有村居的id\n",
    "ids_array = np.arange(1,1333,1)\n",
    "\n",
    "#四级权重\n",
    "w_array = np.arange(1,5,1)\n",
    "\n",
    "#结果数字，第一列为村居图斑id，后面四列为四种地类的面积\n",
    "result_matrix = []\n",
    "\n",
    "for id in ids_array:\n",
    "    each_id_array = datas[ datas[:,0] == id]\n",
    "    temp_array = np.zeros(5)\n",
    "    temp_array[0] = id\n",
    "    for weigh_id in w_array:\n",
    "        value_array = each_id_array[ each_id_array[:,2] == weigh_id ]\n",
    "        areas_array = value_array[:,4]\n",
    "        total = np.sum(areas_array)\n",
    "        temp_array[weigh_id] = total\n",
    "\n",
    "    result_matrix.append(temp_array)\n",
    "\n",
    "csv_name = 'D:\\\\weather_Data\\\\三调地类_分4个权重.csv'\n",
    "import csv\n",
    " \n",
    "# 写入CSV文件\n",
    "with open(csv_name, 'w', newline='') as csvfile:\n",
    "    writer = csv.writer(csvfile)\n",
    "    for row in result_matrix:\n",
    "        writer.writerow(row)\n",
    "\n"
   ]
  },
  {
   "cell_type": "code",
   "execution_count": null,
   "id": "ef960a58-7a81-4960-b634-c80e699e8e23",
   "metadata": {},
   "outputs": [],
   "source": []
  }
 ],
 "metadata": {
  "kernelspec": {
   "display_name": "Python 3 (ipykernel)",
   "language": "python",
   "name": "python3"
  },
  "language_info": {
   "codemirror_mode": {
    "name": "ipython",
    "version": 3
   },
   "file_extension": ".py",
   "mimetype": "text/x-python",
   "name": "python",
   "nbconvert_exporter": "python",
   "pygments_lexer": "ipython3",
   "version": "3.11.7"
  }
 },
 "nbformat": 4,
 "nbformat_minor": 5
}
