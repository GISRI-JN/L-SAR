{
 "cells": [
  {
   "cell_type": "code",
   "execution_count": 36,
   "id": "8fc48e66-3632-4d0c-aef2-c9d83d038344",
   "metadata": {},
   "outputs": [
    {
     "name": "stdout",
     "output_type": "stream",
     "text": [
      "(442, 5)\n",
      "2210\n",
      "[[ 38.         117.9         -2.29152493  29.98994218  32.281     ]\n",
      " [ 36.         116.          -3.49824919  31.66359863  35.162     ]\n",
      " [ 36.         116.1         -3.47275909  30.8820955   34.355     ]\n",
      " ...\n",
      " [ 38.         117.8         -3.78733004  31.06226412  34.85      ]\n",
      " [ 38.         117.9         -2.29152493  29.98994218  32.281     ]\n",
      " [ 38.         118.          -2.15132941  29.77095909  31.922     ]]\n"
     ]
    }
   ],
   "source": [
    "import pandas as pd\n",
    "import numpy as np\n",
    " \n",
    "# 读取Excel文件\n",
    "df = pd.read_excel('D:\\weather_Data\\地表温度.xlsx', sheet_name='skt')\n",
    " \n",
    "# 将DataFrame转换为数组\n",
    "data_array = df.values\n",
    " \n",
    "lats = np.arange(36,38.1,0.1)\n",
    "lats = np.around(lats, decimals=1)\n",
    "\n",
    "lons = np.arange(116,118.1,0.1)\n",
    "lons = np.around(lons, decimals=1)\n",
    "\n",
    "arr_result = np.empty((1,5))\n",
    "for lat in lats:\n",
    "    lat_array = data_array[ data_array[:,1] == lat]\n",
    "    for lon in lons:\n",
    "        lon_array = lat_array[ lat_array[:,2] == lon]\n",
    "        value_array = lon_array[:,3]\n",
    "        if(value_array.size == 0):\n",
    "            continue\n",
    "        min = np.amin(value_array)\n",
    "        max = np.amax(value_array)\n",
    "        #print(lat,lon,min,max,np.around(max-min,decimals=3))\n",
    "        data = np.array([lat,lon,min,max,np.around(max-min,decimals=3)])\n",
    "        arr_result = np.vstack((arr_result,data))\n",
    "\n",
    "print(arr_result.shape)\n",
    "print(arr_result.size)\n",
    "print(arr_result)\n",
    "\n",
    "csv_name = 'D:\\\\weather_Data\\\\地表温度.csv'\n",
    "import csv\n",
    " \n",
    "# 写入CSV文件\n",
    "with open(csv_name, 'w', newline='') as csvfile:\n",
    "    writer = csv.writer(csvfile)\n",
    "    for row in arr_result:\n",
    "        writer.writerow(row)\n",
    " "
   ]
  },
  {
   "cell_type": "code",
   "execution_count": null,
   "id": "ef960a58-7a81-4960-b634-c80e699e8e23",
   "metadata": {},
   "outputs": [],
   "source": []
  }
 ],
 "metadata": {
  "kernelspec": {
   "display_name": "Python 3 (ipykernel)",
   "language": "python",
   "name": "python3"
  },
  "language_info": {
   "codemirror_mode": {
    "name": "ipython",
    "version": 3
   },
   "file_extension": ".py",
   "mimetype": "text/x-python",
   "name": "python",
   "nbconvert_exporter": "python",
   "pygments_lexer": "ipython3",
   "version": "3.11.7"
  }
 },
 "nbformat": 4,
 "nbformat_minor": 5
}
