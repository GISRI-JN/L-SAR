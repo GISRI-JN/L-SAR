{
 "cells": [
  {
   "cell_type": "code",
   "execution_count": 3,
   "id": "a039e9ef-1e98-49ff-aca6-e0f3cac2c5c6",
   "metadata": {},
   "outputs": [
    {
     "name": "stdout",
     "output_type": "stream",
     "text": [
      "CI = (0.1+0j)\n",
      "一致性检验通。 CR = (0.08+0j)\n",
      "形变漏斗面积 权重: 0.35\n",
      "地质灾害点数量 权重: 0.199\n",
      "历史灾害造成的损失 权重: 0.127\n",
      "平均坡度 权重: 0.124\n",
      "土壤含水量 权重: 0.106\n",
      "土壤表面温度 权重: 0.094\n"
     ]
    }
   ],
   "source": [
    "import numpy as np\n",
    "\n",
    "# 危险性因子名称\n",
    "criteria = ['形变漏斗面积', '地质灾害点数量', '历史灾害造成的损失', '平均坡度', '土壤含水量', '土壤表面温度']\n",
    "\n",
    "#因子检验矩阵\n",
    "matrix = np.array([\n",
    "    [1,     3,     1,  \t4,     4,     3],\n",
    "    [1/3,   1,     9/4,\t    7/3,   2,     2],\n",
    "    [1,   4/9,    1,   \t1/2,   1,      1],\n",
    "    [1/4,   3/7,   2,\t    1,\t   3/2,    1  ],\n",
    "    [1/4,   1/2,   1,  \t    2/3,   1,\t   2  ],\n",
    "    [1/3,   1/2,   1,\t    1,     1/2,    1  ]\n",
    "])\n",
    "\n",
    "RI = [0, 0, 0.58, 0.9, 1.12, 1.24, 1.32, 1.41, 1.45, 1.49]\n",
    "\n",
    "#一致性检验\n",
    "def consistency_check(matrix):\n",
    "    eigenvalues, eigenvectors = np.linalg.eig(matrix)\n",
    "    max_eigenvalue = max(eigenvalues)\n",
    "    n = len(matrix)\n",
    "    ci = (max_eigenvalue - n) / (n - 1)\n",
    "    cr = ci / RI[n - 1]\n",
    "\n",
    "    print(\"CI =\", np.round(ci, 2))\n",
    "    if cr < 0.1:\n",
    "        print(\"一致性检验通。 CR =\", np.round(cr, 2))\n",
    "    else:\n",
    "        print(\"一致性检验不通过！！！ CR =\", np.round(cr, 2))\n",
    "\n",
    "#计算权重\n",
    "def calculate_weights(matrix):\n",
    "    eigenvalues, eigenvectors = np.linalg.eig(matrix)\n",
    "    max_eigenvalue = max(eigenvalues)\n",
    "    index = np.argmax(eigenvalues)\n",
    "    weights = eigenvectors[:, index].real\n",
    "    weights /= weights.sum()\n",
    "    \n",
    "    return weights\n",
    "\n",
    "consistency_check(matrix)\n",
    "weights = calculate_weights(matrix)\n",
    "\n",
    "for i in range(len(criteria)):\n",
    "    print(criteria[i], \"权重:\", np.round(weights[i], 3))"
   ]
  },
  {
   "cell_type": "code",
   "execution_count": 3,
   "id": "f4737a7c-7be3-408b-b108-98548467e8ef",
   "metadata": {},
   "outputs": [
    {
     "name": "stdout",
     "output_type": "stream",
     "text": [
      "CI = (0.03+0j)\n",
      "一致性检验通。 CR = (0.06+0j)\n",
      "人口数量 权重: 0.441\n",
      "房间建筑面积 权重: 0.284\n",
      "土地利用类型 权重: 0.274\n"
     ]
    }
   ],
   "source": [
    "import numpy as np\n",
    "\n",
    "# 易损性因子名称\n",
    "criteria = ['人口数量', '房间建筑面积', '土地利用类型']\n",
    "\n",
    "#因子检验矩阵\n",
    "matrix = np.array([\n",
    "    [1,     2,   5/4],\n",
    "    [1/2,   1,   4/3],\n",
    "    [1/2,   3/4, 1]\n",
    "])\n",
    "\n",
    "RI = [0, 0, 0.58, 0.9, 1.12, 1.24, 1.32, 1.41, 1.45, 1.49]\n",
    "\n",
    "#一致性检验\n",
    "def consistency_check(matrix):\n",
    "    eigenvalues, eigenvectors = np.linalg.eig(matrix)\n",
    "    max_eigenvalue = max(eigenvalues)\n",
    "    n = len(matrix)\n",
    "    ci = (max_eigenvalue - n) / (n - 1)\n",
    "    cr = ci / RI[n - 1]\n",
    "\n",
    "    print(\"CI =\", np.round(ci, 2))\n",
    "    if cr < 0.1:\n",
    "        print(\"一致性检验通。 CR =\", np.round(cr, 2))\n",
    "    else:\n",
    "        print(\"一致性检验不通过！！！ CR =\", np.round(cr, 2))\n",
    "\n",
    "#计算权重\n",
    "def calculate_weights(matrix):\n",
    "    eigenvalues, eigenvectors = np.linalg.eig(matrix)\n",
    "    max_eigenvalue = max(eigenvalues)\n",
    "    index = np.argmax(eigenvalues)\n",
    "    weights = eigenvectors[:, index].real\n",
    "    weights /= weights.sum()\n",
    "    \n",
    "    return weights\n",
    "\n",
    "consistency_check(matrix)\n",
    "weights = calculate_weights(matrix)\n",
    "\n",
    "for i in range(len(criteria)):\n",
    "    print(criteria[i], \"权重:\", np.round(weights[i], 3))"
   ]
  },
  {
   "cell_type": "code",
   "execution_count": null,
   "id": "c54f4caf-56fc-41ea-b4a5-08755473b066",
   "metadata": {},
   "outputs": [],
   "source": []
  }
 ],
 "metadata": {
  "kernelspec": {
   "display_name": "Python 3 (ipykernel)",
   "language": "python",
   "name": "python3"
  },
  "language_info": {
   "codemirror_mode": {
    "name": "ipython",
    "version": 3
   },
   "file_extension": ".py",
   "mimetype": "text/x-python",
   "name": "python",
   "nbconvert_exporter": "python",
   "pygments_lexer": "ipython3",
   "version": "3.11.7"
  }
 },
 "nbformat": 4,
 "nbformat_minor": 5
}
